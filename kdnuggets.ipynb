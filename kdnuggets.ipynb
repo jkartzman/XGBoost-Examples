{
  "nbformat": 4,
  "nbformat_minor": 0,
  "metadata": {
    "colab": {
      "name": "kdnuggets.ipynb",
      "provenance": [],
      "collapsed_sections": []
    },
    "kernelspec": {
      "name": "python3",
      "display_name": "Python 3"
    }
  },
  "cells": [
    {
      "cell_type": "code",
      "metadata": {
        "id": "U_-_oPAkD6--"
      },
      "source": [
        "# Based on https://www.kdnuggets.com/2017/03/simple-xgboost-tutorial-iris-dataset.html\r\n",
        "from sklearn import datasets\r\n",
        "\r\n",
        "iris = datasets.load_iris()\r\n",
        "X = iris.data\r\n",
        "y = iris.target"
      ],
      "execution_count": 1,
      "outputs": []
    },
    {
      "cell_type": "code",
      "metadata": {
        "id": "p3lMgSrQ6G-k"
      },
      "source": [
        "from sklearn.model_selection import train_test_split\r\n",
        "\r\n",
        "X_train, X_test, y_train, y_test = train_test_split(X, y, test_size=0.2, random_state=42)"
      ],
      "execution_count": 2,
      "outputs": []
    },
    {
      "cell_type": "code",
      "metadata": {
        "id": "yjaEeWq6-6QI"
      },
      "source": [
        "import xgboost as xgb\r\n",
        "\r\n",
        "dtrain = xgb.DMatrix(X_train, label=y_train)\r\n",
        "dtest = xgb.DMatrix(X_test, label=y_test)"
      ],
      "execution_count": 3,
      "outputs": []
    },
    {
      "cell_type": "code",
      "metadata": {
        "id": "ykOqTHEAAnqx"
      },
      "source": [
        "param = {\r\n",
        "    'max_depth': 3,  # the maximum depth of each tree\r\n",
        "    'eta': 0.3,  # the training step for each iteration\r\n",
        "    'silent': 1,  # logging mode - quiet\r\n",
        "    'objective': 'multi:softprob',  # error evaluation for multiclass training\r\n",
        "    'num_class': 3}  # the number of classes that exist in this datset\r\n",
        "num_round = 20  # the number of training iterations"
      ],
      "execution_count": 4,
      "outputs": []
    },
    {
      "cell_type": "code",
      "metadata": {
        "id": "UF8P1iinA5_H"
      },
      "source": [
        "bst = xgb.train(param, dtrain, num_round)"
      ],
      "execution_count": 5,
      "outputs": []
    },
    {
      "cell_type": "code",
      "metadata": {
        "id": "SEKLtPCNBLaO"
      },
      "source": [
        "preds = bst.predict(dtest)"
      ],
      "execution_count": 6,
      "outputs": []
    },
    {
      "cell_type": "code",
      "metadata": {
        "id": "5TJRnIKJBgfn"
      },
      "source": [
        "import numpy as np\r\n",
        "best_preds = np.asarray([np.argmax(line) for line in preds])"
      ],
      "execution_count": 7,
      "outputs": []
    },
    {
      "cell_type": "code",
      "metadata": {
        "colab": {
          "base_uri": "https://localhost:8080/"
        },
        "id": "F5KZQf9DB3Jz",
        "outputId": "1294846d-1f36-4b3d-be4d-0890dc4231de"
      },
      "source": [
        "from sklearn.metrics import classification_report\r\n",
        "\r\n",
        "print(classification_report(y_test, best_preds))"
      ],
      "execution_count": 8,
      "outputs": [
        {
          "output_type": "stream",
          "text": [
            "              precision    recall  f1-score   support\n",
            "\n",
            "           0       1.00      1.00      1.00        10\n",
            "           1       1.00      1.00      1.00         9\n",
            "           2       1.00      1.00      1.00        11\n",
            "\n",
            "    accuracy                           1.00        30\n",
            "   macro avg       1.00      1.00      1.00        30\n",
            "weighted avg       1.00      1.00      1.00        30\n",
            "\n"
          ],
          "name": "stdout"
        }
      ]
    }
  ]
}